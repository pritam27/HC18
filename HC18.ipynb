{
  "nbformat": 4,
  "nbformat_minor": 0,
  "metadata": {
    "colab": {
      "name": "HC18.ipynb",
      "version": "0.3.2",
      "provenance": [],
      "collapsed_sections": [
        "1DaNecm-cSZQ",
        "yBQ6MnRa32JX",
        "_wCeat0oc6CO",
        "-cY7SNU-dajT",
        "ZXSLycdOdQX0",
        "oEymsb9BzbyR",
        "fJ5eSVU0LEZ1",
        "O5pPesGM7ksP",
        "kg3DVjb-Fzni",
        "MjJ_p1jAQriT"
      ]
    },
    "kernelspec": {
      "name": "python3",
      "display_name": "Python 3"
    },
    "accelerator": "GPU"
  },
  "cells": [
    {
      "cell_type": "markdown",
      "metadata": {
        "id": "1DaNecm-cSZQ",
        "colab_type": "text"
      },
      "source": [
        "#Downloading images and pixel size sheet"
      ]
    },
    {
      "cell_type": "code",
      "metadata": {
        "id": "hQai89AwK2MQ",
        "colab_type": "code",
        "colab": {}
      },
      "source": [
        "# Install the PyDrive wrapper & import libraries.\n",
        "# This only needs to be done once per notebook.\n",
        "!pip install -U -q PyDrive\n",
        "from pydrive.auth import GoogleAuth\n",
        "from pydrive.drive import GoogleDrive\n",
        "from google.colab import auth\n",
        "from oauth2client.client import GoogleCredentials\n",
        "\n",
        "# Authenticate and create the PyDrive client.\n",
        "# This only needs to be done once per notebook.\n",
        "auth.authenticate_user()\n",
        "gauth = GoogleAuth()\n",
        "gauth.credentials = GoogleCredentials.get_application_default()\n",
        "drive = GoogleDrive(gauth)"
      ],
      "execution_count": 0,
      "outputs": []
    },
    {
      "cell_type": "code",
      "metadata": {
        "id": "_Ku7x4vso7nd",
        "colab_type": "code",
        "colab": {}
      },
      "source": [
        "# Download a file based on its file ID.\n",
        "#\n",
        "# A file ID looks like: laggVyWshwcyP6kEI-y_W3P8D26sz\n",
        "file_id_1 = '1nx8oTD1mdhB9e19xAZQYsdgOPt-4QUvl'  \n",
        "downloaded_1 = drive.CreateFile({'id': file_id_1})  "
      ],
      "execution_count": 0,
      "outputs": []
    },
    {
      "cell_type": "code",
      "metadata": {
        "id": "8ULf3yNPpRSh",
        "colab_type": "code",
        "colab": {}
      },
      "source": [
        "file_id_2 = '1OSrIuKWasvLss0Ewbx5EyTEPKSQ1nM6k'  \n",
        "downloaded_2 = drive.CreateFile({'id': file_id_2}) "
      ],
      "execution_count": 0,
      "outputs": []
    },
    {
      "cell_type": "code",
      "metadata": {
        "id": "suVUOlGViw8U",
        "colab_type": "code",
        "colab": {}
      },
      "source": [
        "file_id_3 = '1dNPGG7FeI3vOC6lFsRhLdt4IrpIj1enH' \n",
        "downloaded_3 = drive.CreateFile({'id': file_id_3}) "
      ],
      "execution_count": 0,
      "outputs": []
    },
    {
      "cell_type": "code",
      "metadata": {
        "id": "hbXz3XwnpgAt",
        "colab_type": "code",
        "colab": {}
      },
      "source": [
        "downloaded_1.GetContentFile('train.zip')"
      ],
      "execution_count": 0,
      "outputs": []
    },
    {
      "cell_type": "code",
      "metadata": {
        "id": "MhhdTNQYpjXn",
        "colab_type": "code",
        "colab": {}
      },
      "source": [
        "downloaded_2.GetContentFile('test.zip')"
      ],
      "execution_count": 0,
      "outputs": []
    },
    {
      "cell_type": "code",
      "metadata": {
        "id": "PPhM_jDojM_A",
        "colab_type": "code",
        "colab": {}
      },
      "source": [
        "downloaded_3.GetContentFile('test_set_pixel_size.csv')"
      ],
      "execution_count": 0,
      "outputs": []
    },
    {
      "cell_type": "code",
      "metadata": {
        "id": "aNh-nimVpmn9",
        "colab_type": "code",
        "colab": {}
      },
      "source": [
        "!unzip train.zip"
      ],
      "execution_count": 0,
      "outputs": []
    },
    {
      "cell_type": "code",
      "metadata": {
        "id": "zYS720YLpr1F",
        "colab_type": "code",
        "colab": {}
      },
      "source": [
        "!unzip test.zip"
      ],
      "execution_count": 0,
      "outputs": []
    },
    {
      "cell_type": "markdown",
      "metadata": {
        "id": "yBQ6MnRa32JX",
        "colab_type": "text"
      },
      "source": [
        "#Downloading trained model"
      ]
    },
    {
      "cell_type": "code",
      "metadata": {
        "id": "0FC_QNLL303v",
        "colab_type": "code",
        "colab": {}
      },
      "source": [
        "file_id_mlruns = '1vu6d7ZKBwMQ_v4QpnAB72n-SG1zuul3V'  \n",
        "downloaded_mlruns = drive.CreateFile({'id': file_id_mlruns})"
      ],
      "execution_count": 0,
      "outputs": []
    },
    {
      "cell_type": "code",
      "metadata": {
        "id": "emNb2p0m4Wfx",
        "colab_type": "code",
        "colab": {}
      },
      "source": [
        "downloaded_mlruns.GetContentFile('mlruns.zip')"
      ],
      "execution_count": 0,
      "outputs": []
    },
    {
      "cell_type": "code",
      "metadata": {
        "id": "BMMEKnqd4ir0",
        "colab_type": "code",
        "colab": {}
      },
      "source": [
        "!unzip mlruns.zip"
      ],
      "execution_count": 0,
      "outputs": []
    },
    {
      "cell_type": "markdown",
      "metadata": {
        "id": "_wCeat0oc6CO",
        "colab_type": "text"
      },
      "source": [
        "#Importing libraries and setting up GPU"
      ]
    },
    {
      "cell_type": "code",
      "metadata": {
        "id": "tMzytD-SKy4C",
        "colab_type": "code",
        "colab": {}
      },
      "source": [
        "!pip install mlflow"
      ],
      "execution_count": 0,
      "outputs": []
    },
    {
      "cell_type": "code",
      "metadata": {
        "id": "Qkp32yXUpv8i",
        "colab_type": "code",
        "colab": {}
      },
      "source": [
        "import os\n",
        "from PIL import Image\n",
        "import matplotlib.pyplot as plt\n",
        "from tqdm import tqdm_notebook \n",
        "import copy\n",
        "import glob\n",
        "\n",
        "import torch\n",
        "import torchvision\n",
        "from torch.utils.data import DataLoader, Dataset, random_split\n",
        "import torchvision.transforms as transforms\n",
        "from torchvision import datasets\n",
        "\n",
        "import torch.nn as nn\n",
        "import torch.nn.functional as F\n",
        "import torch.optim as optim\n",
        "\n",
        "import numpy as np\n",
        "import pandas as pd\n",
        "\n",
        "import mlflow\n",
        "import mlflow.pytorch\n",
        "\n",
        "import cv2"
      ],
      "execution_count": 0,
      "outputs": []
    },
    {
      "cell_type": "code",
      "metadata": {
        "id": "WDNcvnYSp0qM",
        "colab_type": "code",
        "outputId": "5385d51d-7b17-4f21-cec1-98c0d9dfdcca",
        "colab": {
          "base_uri": "https://localhost:8080/",
          "height": 34
        }
      },
      "source": [
        "device = torch.device(\"cuda:0\" if torch.cuda.is_available() else \"cpu\")\n",
        "print(device)"
      ],
      "execution_count": 0,
      "outputs": [
        {
          "output_type": "stream",
          "text": [
            "cuda:0\n"
          ],
          "name": "stdout"
        }
      ]
    },
    {
      "cell_type": "markdown",
      "metadata": {
        "id": "-cY7SNU-dajT",
        "colab_type": "text"
      },
      "source": [
        "#Mask generation for annotated images"
      ]
    },
    {
      "cell_type": "code",
      "metadata": {
        "id": "AmGNi9jEjtHq",
        "colab_type": "code",
        "colab": {}
      },
      "source": [
        "def mask_generator(source_file_path, dest_file_path):\n",
        "    file_names = sorted([file for _,_,files in os.walk(source_file_path) for file in files])\n",
        "    for i, file_name in enumerate(file_names):\n",
        "        if i % 2 != 0:\n",
        "            im = cv2.imread(source_file_path+file_name)\n",
        "            imgray = cv2.cvtColor(im,cv2.COLOR_BGR2GRAY)\n",
        "            ret,thresh = cv2.threshold(imgray,127,255,0)\n",
        "            im2, contours, hierarchy = cv2.findContours(thresh,cv2.RETR_TREE,cv2.CHAIN_APPROX_SIMPLE)\n",
        "            ellipse = cv2.fitEllipse(contours[0])\n",
        "            im1 = cv2.ellipse(im,ellipse,(255,255,255),-1)\n",
        "            image_name = file_name.replace('Annotation', 'Mask')\n",
        "            cv2.imwrite(dest_file_path+image_name, im1)\n",
        "    \n",
        "    return 1"
      ],
      "execution_count": 0,
      "outputs": []
    },
    {
      "cell_type": "markdown",
      "metadata": {
        "id": "ZXSLycdOdQX0",
        "colab_type": "text"
      },
      "source": [
        "#Dataloader"
      ]
    },
    {
      "cell_type": "code",
      "metadata": {
        "id": "bRB_evW7p3Ao",
        "colab_type": "code",
        "colab": {}
      },
      "source": [
        "#For converting the dataset to torchvision dataset format\n",
        "class HC18Dataset(Dataset):\n",
        "    def __init__(self, file_path,train=True):        \n",
        "        self.file_path = file_path\n",
        "        self.train = train\n",
        "        if self.train:\n",
        "            self.transform_x = transforms.Compose([\n",
        "                transforms.Resize((432, 640)), \n",
        "                transforms.ToTensor(),\n",
        "                transforms.Normalize((0.5,), (0.5,))\n",
        "            ])\n",
        "            self.transform_y = transforms.Compose([\n",
        "                    transforms.Resize((432, 640)), \n",
        "                    transforms.ToTensor()\n",
        "            ])\n",
        "            self.X_train_file_names = []\n",
        "            self.Y_train_file_names = []\n",
        "            file_names = sorted([file for _,_,files in os.walk(self.file_path) for file in files])\n",
        "            for i, file_name in enumerate(file_names):\n",
        "                if i % 2 == 0:\n",
        "                    self.X_train_file_names.append(file_name)\n",
        "                else:\n",
        "                    self.Y_train_file_names.append(file_name)\n",
        "            self.len = len(self.X_train_file_names)\n",
        "            \n",
        "        else:\n",
        "            self.transform_x = transforms.Compose([\n",
        "                transforms.Resize((432, 640)),\n",
        "                transforms.ToTensor(),\n",
        "                transforms.Normalize((0.5,), (0.5,))\n",
        "            ])\n",
        "            self.X_test_file_names = sorted([file for _,_,files in os.walk(self.file_path) for file in files])\n",
        "            self.len = len(self.X_test_file_names)\n",
        "            \n",
        "            \n",
        "    def __len__(self):\n",
        "        return self.len\n",
        "    \n",
        "    def __getitem__(self, index):        \n",
        "        if self.train:\n",
        "            X_train_file_name = self.X_train_file_names[index]\n",
        "            Y_train_file_name = self.Y_train_file_names[index]\n",
        "            x_train = self.pil_loader(self.file_path+\"/\"+X_train_file_name)\n",
        "            y_train = self.pil_loader(self.file_path+\"/\"+Y_train_file_name)\n",
        "            return self.transform_x(x_train), self.transform_y(y_train), X_train_file_name, Y_train_file_name\n",
        "        else:\n",
        "            file_name = self.X_test_file_names[index]\n",
        "            x_test = self.pil_loader(self.file_path+\"/\"+file_name)\n",
        "            return self.transform_x(x_test), file_name\n",
        "                \n",
        "    def pil_loader(self,path):\n",
        "        with open(path, 'rb') as f:\n",
        "            img = Image.open(f)\n",
        "            return img.convert('L')\n"
      ],
      "execution_count": 0,
      "outputs": []
    },
    {
      "cell_type": "code",
      "metadata": {
        "id": "Ok5AMO1UsKno",
        "colab_type": "code",
        "colab": {}
      },
      "source": [
        "full_data = HC18Dataset(\"train\",train=True)"
      ],
      "execution_count": 0,
      "outputs": []
    },
    {
      "cell_type": "code",
      "metadata": {
        "id": "nlGyUq8cw7sr",
        "colab_type": "code",
        "colab": {}
      },
      "source": [
        "train_size = int(0.9 * len(full_data))\n",
        "test_size = len(full_data) - train_size\n",
        "\n",
        "train_data, validation_data = random_split(full_data, [train_size, test_size])"
      ],
      "execution_count": 0,
      "outputs": []
    },
    {
      "cell_type": "code",
      "metadata": {
        "id": "vrTWIjinACso",
        "colab_type": "code",
        "colab": {}
      },
      "source": [
        "batch_size = 2"
      ],
      "execution_count": 0,
      "outputs": []
    },
    {
      "cell_type": "code",
      "metadata": {
        "id": "vHOpQE5z_GBQ",
        "colab_type": "code",
        "colab": {}
      },
      "source": [
        "train_loader = torch.utils.data.DataLoader(train_data, batch_size=batch_size, shuffle=True)\n",
        "validation_loader = torch.utils.data.DataLoader(validation_data, batch_size=batch_size, shuffle=True)"
      ],
      "execution_count": 0,
      "outputs": []
    },
    {
      "cell_type": "code",
      "metadata": {
        "id": "sYh9msDzAAcB",
        "colab_type": "code",
        "colab": {}
      },
      "source": [
        "test_data = HC18Dataset(\"test\",train=False)\n",
        "test_loader = torch.utils.data.DataLoader(test_data, batch_size=batch_size,shuffle=False)"
      ],
      "execution_count": 0,
      "outputs": []
    },
    {
      "cell_type": "code",
      "metadata": {
        "id": "PuPy6BOgAKz_",
        "colab_type": "code",
        "colab": {}
      },
      "source": [
        "def imshow(img, title):\n",
        "    npimg = img.numpy() *0.5 + 0.5   # un-normalizing the image\n",
        "    plt.figure(figsize=(batch_size*5, 5))\n",
        "    #plt.axis('off')\n",
        "    plt.imshow(np.transpose(npimg, (1, 2, 0)))\n",
        "    plt.title(title)\n",
        "    plt.show()"
      ],
      "execution_count": 0,
      "outputs": []
    },
    {
      "cell_type": "code",
      "metadata": {
        "id": "Lle4f9hmAoKD",
        "colab_type": "code",
        "colab": {}
      },
      "source": [
        "def show_train_batch_images(dataloader):\n",
        "    x, y, xf, yf = next(iter(dataloader))\n",
        "    x = torchvision.utils.make_grid(x)\n",
        "    y = torchvision.utils.make_grid(y)\n",
        "    imshow(x, title=[n for n in xf])\n",
        "    imshow(y, title=[n for n in yf])"
      ],
      "execution_count": 0,
      "outputs": []
    },
    {
      "cell_type": "code",
      "metadata": {
        "id": "kR5XCDCrAtJS",
        "colab_type": "code",
        "outputId": "d1a7e87c-ecc1-4604-96da-72a95246f903",
        "colab": {
          "base_uri": "https://localhost:8080/",
          "height": 489
        }
      },
      "source": [
        "show_train_batch_images(validation_loader)"
      ],
      "execution_count": 0,
      "outputs": [
        {
          "output_type": "display_data",
          "data": {
            "image/png": "[encoded data removed]",
            "text/plain": [
              "<Figure size 720x360 with 1 Axes>"
            ]
          },
          "metadata": {
            "tags": []
          }
        },
        {
          "output_type": "display_data",
          "data": {
            "image/png": "[encoded data removed]",
            "text/plain": [
              "<Figure size 720x360 with 1 Axes>"
            ]
          },
          "metadata": {
            "tags": []
          }
        }
      ]
    },
    {
      "cell_type": "markdown",
      "metadata": {
        "id": "oEymsb9BzbyR",
        "colab_type": "text"
      },
      "source": [
        "#Model"
      ]
    },
    {
      "cell_type": "code",
      "metadata": {
        "id": "RJgaD_8wSzTw",
        "colab_type": "code",
        "colab": {}
      },
      "source": [
        "class UNet(nn.Module):\n",
        "    def __init__(self): \n",
        "        super(UNet, self).__init__()\n",
        "        self.down_sample_conv_1 = self.down_sample_conv(1)\n",
        "        self.down_sample_conv_2 = self.down_sample_conv(64)\n",
        "        self.down_sample_conv_3 = self.down_sample_conv(128)\n",
        "        self.down_sample_conv_4 = self.down_sample_conv(256)\n",
        "        self.down_sample_conv_5 = self.down_sample_conv(512)\n",
        "        \n",
        "        self.upconv_4 = self.up_conv(1024)\n",
        "        self.up_sample_conv_4 = self.up_sample_conv(1024)\n",
        "        self.upconv_3 = self.up_conv(512)\n",
        "        self.up_sample_conv_3 = self.up_sample_conv(512)\n",
        "        self.upconv_2 = self.up_conv(256)\n",
        "        self.up_sample_conv_2 = self.up_sample_conv(256)\n",
        "        self.upconv_1 = self.up_conv(128)\n",
        "        self.up_sample_conv_1 = self.up_sample_conv(128)\n",
        "        \n",
        "        self.final_conv = nn.Conv2d(64, 2, kernel_size=1, stride=1, padding=0)\n",
        "    \n",
        "    def down_sample_conv(self, in_feature_maps):\n",
        "        return nn.Sequential(\n",
        "            nn.Conv2d(1, 64, kernel_size=3, stride=1, padding=1),\n",
        "            nn.ReLU(inplace=True),\n",
        "            nn.Conv2d(64, 64, kernel_size=3, stride=1, padding=1),\n",
        "            nn.ReLU(inplace=True)\n",
        "            \n",
        "        ) if in_feature_maps == 1 else nn.Sequential(\n",
        "            nn.Conv2d(in_feature_maps, 2*in_feature_maps, kernel_size=3, stride=1, padding=1),\n",
        "            nn.ReLU(inplace=True),\n",
        "            nn.Conv2d(2*in_feature_maps, 2*in_feature_maps, kernel_size=3, stride=1, padding=1),\n",
        "            nn.ReLU(inplace=True)\n",
        "            \n",
        "        )\n",
        "      \n",
        "    def down_sample(self):\n",
        "        return nn.MaxPool2d(kernel_size=2, stride=2)\n",
        "      \n",
        "    def up_sample_conv(self, in_feature_maps):\n",
        "        return nn.Sequential(\n",
        "            nn.Conv2d(in_feature_maps, int(0.5*in_feature_maps), kernel_size=3, stride=1, padding=1),\n",
        "            nn.ReLU(inplace=True),\n",
        "            nn.Conv2d(int(0.5*in_feature_maps), int(0.5*in_feature_maps), kernel_size=3, stride=1, padding=1),\n",
        "            nn.ReLU(inplace=True)\n",
        "            \n",
        "        )\n",
        "      \n",
        "    def up_conv(self, in_feature_maps):\n",
        "        return nn.ConvTranspose2d(in_feature_maps, int(0.5*in_feature_maps), kernel_size=2, stride=2, padding=0)\n",
        "      \n",
        "    def crop_concat(self, x1, x2):\n",
        "        in_width = x1.shape[-1]\n",
        "        out_width = x2.shape[-1]\n",
        "        crop_width = (in_width - out_width) // 2\n",
        "        \n",
        "        in_height = x1.shape[-2]\n",
        "        out_height = x2.shape[-2]\n",
        "        crop_height = (in_height - out_height) // 2\n",
        "        \n",
        "        x1 = x1[:, :, crop_height:(in_height-crop_height), crop_width:(in_width-crop_width)]\n",
        "        return torch.cat((x1, x2), 1)\n",
        "        \n",
        "    def forward(self, x):\n",
        "        #Downsampling or contraction\n",
        "        x1 = self.down_sample_conv_1(x)\n",
        "        #print(x1.shape)\n",
        "        x2 = self.down_sample_conv_2(self.down_sample()(x1))\n",
        "        #print(x2.shape)\n",
        "        x3 = self.down_sample_conv_3(self.down_sample()(x2))\n",
        "        #print(x3.shape)\n",
        "        x4 = self.down_sample_conv_4(self.down_sample()(x3))\n",
        "        #print(x4.shape)\n",
        "        x5 = self.down_sample_conv_5(self.down_sample()(x4))\n",
        "        #print(x5.shape)\n",
        "        #print('--------------------------------------------------\\n')\n",
        "        \n",
        "        #Upsampling or expansion\n",
        "        x4_u = self.upconv_4(x5)\n",
        "        x4_u = self.up_sample_conv_4(self.crop_concat(x4, x4_u))\n",
        "        #print(x4_u.shape)\n",
        "        x3_u = self.upconv_3(x4_u)\n",
        "        x3_u = self.up_sample_conv_3(self.crop_concat(x3, x3_u))\n",
        "        #print(x3_u.shape)\n",
        "        x2_u = self.upconv_2(x3_u)\n",
        "        x2_u = self.up_sample_conv_2(self.crop_concat(x2, x2_u))\n",
        "        #print(x2_u.shape)\n",
        "        x1_u = self.upconv_1(x2_u)\n",
        "        x1_u = self.up_sample_conv_1(self.crop_concat(x1, x1_u))\n",
        "        #print(x1_u.shape)\n",
        "        y = self.final_conv(x1_u)\n",
        "        #print(y.shape)           \n",
        "        return y"
      ],
      "execution_count": 0,
      "outputs": []
    },
    {
      "cell_type": "markdown",
      "metadata": {
        "id": "fJ5eSVU0LEZ1",
        "colab_type": "text"
      },
      "source": [
        "#Training and Validation"
      ]
    },
    {
      "cell_type": "code",
      "metadata": {
        "id": "X9EhzMsoLK22",
        "colab_type": "code",
        "colab": {}
      },
      "source": [
        "def train(epoch):\n",
        "    \n",
        "    model.train()\n",
        "    \n",
        "    for batch_id, data in enumerate(train_loader):\n",
        "        inputs, targets, _, _ = data               \n",
        "        \n",
        "        tragets = torch.ceil(targets)     \n",
        "        inputs = inputs.to(device)\n",
        "        targets = targets.to(device)\n",
        "        targets = targets.view(targets.shape[0], targets.shape[2], targets.shape[3]).long()\n",
        "                \n",
        "        opt.zero_grad()\n",
        "        outputs = model(inputs)\n",
        "        loss = loss_fn(outputs, targets)\n",
        "        loss.backward()\n",
        "        opt.step()\n",
        "        \n",
        "        if batch_id % args.log_interval == 0:\n",
        "            #pos = epoch * len(train_loader) + batch_id\n",
        "            #mlflow.log_metric('train_loss', loss.data.item())            \n",
        "            print('Train Epoch: {} [{}/{} ({:.0f}%)]\\tLoss: {:.3f}'.format(\n",
        "                epoch, batch_id * len(inputs), len(train_loader.dataset),\n",
        "                100. * batch_id / len(train_loader), loss.data.item()))\n",
        "        \n",
        "        del inputs, targets, outputs, loss\n",
        "        torch.cuda.empty_cache()"
      ],
      "execution_count": 0,
      "outputs": []
    },
    {
      "cell_type": "code",
      "metadata": {
        "id": "r18xAvDIM8HY",
        "colab_type": "code",
        "colab": {}
      },
      "source": [
        "def validate(epoch):\n",
        "    \n",
        "    model.eval()\n",
        "    validation_loss = 0\n",
        "    \n",
        "    with torch.no_grad():\n",
        "        \n",
        "        for inputs, targets, _, _ in validation_loader:\n",
        "          \n",
        "            tragets = torch.ceil(targets)\n",
        "            inputs = inputs.to(device)\n",
        "            targets = targets.to(device)\n",
        "            targets = targets.view(targets.shape[0], targets.shape[2], targets.shape[3]).long()\n",
        "            \n",
        "            outputs = model(inputs)\n",
        "            loss = loss_fn(outputs, targets)\n",
        "            validation_loss += loss.data.item()        \n",
        "            \n",
        "            del inputs, targets, outputs\n",
        "            torch.cuda.empty_cache()\n",
        "            \n",
        "        validation_loss /= len(validation_loader.dataset)\n",
        "        \n",
        "        #pos = (epoch + 1) * len(train_loader)\n",
        "        #mlflow.log_metric('validation_loss', validation_loss)\n",
        "        \n",
        "        print('\\nEpoch: {}, Validation set: Average loss: {:.4f}\\n'.\n",
        "              format(epoch, validation_loss))  \n",
        "        \n",
        "        return validation_loss\n"
      ],
      "execution_count": 0,
      "outputs": []
    },
    {
      "cell_type": "code",
      "metadata": {
        "id": "BrV6N0FmOB-d",
        "colab_type": "code",
        "colab": {}
      },
      "source": [
        "class Params(object):\n",
        "    def __init__(self, batch_size, epochs, seed, log_interval):\n",
        "        self.batch_size = batch_size\n",
        "        self.epochs = epochs\n",
        "        self.seed = seed\n",
        "        self.log_interval = log_interval\n",
        "\n",
        "args = Params(batch_size, 10, 0, 15)"
      ],
      "execution_count": 0,
      "outputs": []
    },
    {
      "cell_type": "code",
      "metadata": {
        "id": "GJaLHhyY6o8X",
        "colab_type": "code",
        "colab": {}
      },
      "source": [
        "#best_model = None"
      ],
      "execution_count": 0,
      "outputs": []
    },
    {
      "cell_type": "code",
      "metadata": {
        "id": "DeCmquYa0Md-",
        "colab_type": "code",
        "colab": {}
      },
      "source": [
        "#!rm -r mlruns"
      ],
      "execution_count": 0,
      "outputs": []
    },
    {
      "cell_type": "code",
      "metadata": {
        "id": "T5NDx8-SOUCo",
        "colab_type": "code",
        "colab": {}
      },
      "source": [
        "expt_name = 'HC18_CrossEntropy_B1'\n",
        "expt_id = mlflow.create_experiment(expt_name)\n",
        "\n",
        "mlflow.set_experiment(expt_name)\n",
        "\n",
        "lr = 0.015\n",
        "momentum = 0.9\n",
        "\n",
        "expt_id = '%d_%d' % (int(lr*1000), int(momentum*1000))\n",
        "\n",
        "print('\\nLR = %.3f, Momentum = %.3f\\n' % (lr, momentum))\n",
        "\n",
        "if best_model:\n",
        "    model.load_state_dict(best_model)\n",
        "else:\n",
        "    min_validation_loss = np.inf\n",
        "    torch.manual_seed(args.seed)\n",
        "    model = UNet()\n",
        "    model.to(device)\n",
        "\n",
        "loss_fn = nn.CrossEntropyLoss()\n",
        "opt = optim.SGD(model.parameters(), lr=lr, momentum = momentum, nesterov=True)\n",
        "\n",
        "with mlflow.start_run(nested=True) as run:                \n",
        "    for key, value in vars(args).items():\n",
        "        mlflow.log_param(key, value)\n",
        "    mlflow.log_param('lr', lr)\n",
        "    mlflow.log_param('momentum', momentum)\n",
        "\n",
        "    for epoch in tqdm_notebook(range(1, args.epochs + 1), total=args.epochs, unit=\"epoch\"):\n",
        "        train(epoch)\n",
        "        validation_loss = validate(epoch)\n",
        "\n",
        "        if validation_loss < min_validation_loss:\n",
        "            min_validation_loss = validation_loss\n",
        "            best_model = copy.deepcopy(model.state_dict())            \n",
        "\n",
        "        print(\"Minimun validation loss so far: {:.3f}\\n\\n\".format(min_validation_loss))   \n",
        "        \n",
        "    model.load_state_dict(best_model)\n",
        "    mlflow.pytorch.log_model(model, \"models\")\n",
        "    "
      ],
      "execution_count": 0,
      "outputs": []
    },
    {
      "cell_type": "code",
      "metadata": {
        "id": "A6yCT9MUklLS",
        "colab_type": "code",
        "colab": {}
      },
      "source": [
        "!tar -czvf mlruns.tar.gz mlruns/8/609ab859607142278e6f4b54f1f5793e"
      ],
      "execution_count": 0,
      "outputs": []
    },
    {
      "cell_type": "markdown",
      "metadata": {
        "id": "O5pPesGM7ksP",
        "colab_type": "text"
      },
      "source": [
        "#Validation loss"
      ]
    },
    {
      "cell_type": "code",
      "metadata": {
        "id": "XmueGcZ57j_J",
        "colab_type": "code",
        "colab": {}
      },
      "source": [
        "model = mlflow.pytorch.load_model('mlruns/8/609ab859607142278e6f4b54f1f5793e/artifacts/models')"
      ],
      "execution_count": 0,
      "outputs": []
    },
    {
      "cell_type": "code",
      "metadata": {
        "id": "92e186mzui7y",
        "colab_type": "code",
        "colab": {}
      },
      "source": [
        "best_model = copy.deepcopy(model.state_dict())  "
      ],
      "execution_count": 0,
      "outputs": []
    },
    {
      "cell_type": "code",
      "metadata": {
        "id": "b8-aa2Ap9kpD",
        "colab_type": "code",
        "outputId": "e81bc8c0-fb29-4e2d-d898-3851be66caa2",
        "colab": {
          "base_uri": "https://localhost:8080/",
          "height": 67
        }
      },
      "source": [
        "loss_fn = nn.CrossEntropyLoss()\n",
        "min_validation_loss = validate(1)"
      ],
      "execution_count": 0,
      "outputs": [
        {
          "output_type": "stream",
          "text": [
            "\n",
            "Epoch: 1, Validation set: Average loss: 0.0170\n",
            "\n"
          ],
          "name": "stdout"
        }
      ]
    },
    {
      "cell_type": "markdown",
      "metadata": {
        "id": "kg3DVjb-Fzni",
        "colab_type": "text"
      },
      "source": [
        "#Dice coefficient"
      ]
    },
    {
      "cell_type": "code",
      "metadata": {
        "id": "wlYOK01CFy5t",
        "colab_type": "code",
        "colab": {}
      },
      "source": [
        "def dice_coeff(predicts, targets):\n",
        "    #predicts and targets are of the size: batch x channel x height x width\n",
        "    \n",
        "    smooth = 1\n",
        "    num = targets.size(0)\n",
        "    m1 = predicts.view(num, -1)\n",
        "    m2 = targets.view(num, -1)\n",
        "    intersection = (m1 * m2)\n",
        "\n",
        "    score = 2. * (intersection.sum(1) + smooth) / (m1.sum(1) + m2.sum(1) + smooth)\n",
        "    score = score.sum() / num\n",
        "    return score.item()"
      ],
      "execution_count": 0,
      "outputs": []
    },
    {
      "cell_type": "code",
      "metadata": {
        "id": "PqSpntYeIFc7",
        "colab_type": "code",
        "colab": {}
      },
      "source": [
        "def avg_dice_coeff(dataloader):\n",
        "  \n",
        "    model.to(device)\n",
        "    model.eval()\n",
        "    \n",
        "    diceCoeff = 0\n",
        "    \n",
        "    with torch.no_grad():\n",
        "    \n",
        "        for inputs, targets, _, _ in dataloader:\n",
        "        \n",
        "            tragets = torch.ceil(targets)\n",
        "            inputs = inputs.to(device)\n",
        "            targets = targets.to(device)\n",
        "            \n",
        "            outputs = model(inputs)\n",
        "            outputs = outputs.argmax(1).float()\n",
        "            \n",
        "            height, width = outputs.shape[1:]\n",
        "            \n",
        "            for output, target in zip(outputs, targets):\n",
        "                diceCoeff += dice_coeff(output.view(1, 1, height, width), \n",
        "                                        target.view(1, 1, height, width))\n",
        "                \n",
        "            del inputs, tragets, outputs\n",
        "            torch.cuda.empty_cache()\n",
        "            \n",
        "    diceCoeff /= len(dataloader.dataset)\n",
        "    return diceCoeff"
      ],
      "execution_count": 0,
      "outputs": []
    },
    {
      "cell_type": "code",
      "metadata": {
        "id": "UH8NEXkvfuFz",
        "colab_type": "code",
        "outputId": "d6f52dcb-5cc7-41b4-9079-5f419ec3326f",
        "colab": {
          "base_uri": "https://localhost:8080/",
          "height": 34
        }
      },
      "source": [
        "avg_dice_coeff(train_loader)"
      ],
      "execution_count": 0,
      "outputs": [
        {
          "output_type": "execute_result",
          "data": {
            "text/plain": [
              "0.9685689276861269"
            ]
          },
          "metadata": {
            "tags": []
          },
          "execution_count": 28
        }
      ]
    },
    {
      "cell_type": "code",
      "metadata": {
        "id": "hHY16Yz7jebZ",
        "colab_type": "code",
        "outputId": "38f19f1e-ac78-43f1-9f21-d0a452a326db",
        "colab": {
          "base_uri": "https://localhost:8080/",
          "height": 34
        }
      },
      "source": [
        "avg_dice_coeff(validation_loader)"
      ],
      "execution_count": 0,
      "outputs": [
        {
          "output_type": "execute_result",
          "data": {
            "text/plain": [
              "0.9728882825374603"
            ]
          },
          "metadata": {
            "tags": []
          },
          "execution_count": 27
        }
      ]
    },
    {
      "cell_type": "markdown",
      "metadata": {
        "id": "MjJ_p1jAQriT",
        "colab_type": "text"
      },
      "source": [
        "#Segmentation"
      ]
    },
    {
      "cell_type": "code",
      "metadata": {
        "id": "UhNXD8UUEgbE",
        "colab_type": "code",
        "colab": {}
      },
      "source": [
        "model = mlflow.pytorch.load_model('mlruns/8/609ab859607142278e6f4b54f1f5793e/artifacts/models')"
      ],
      "execution_count": 0,
      "outputs": []
    },
    {
      "cell_type": "code",
      "metadata": {
        "id": "CmJweLYNpulx",
        "colab_type": "code",
        "colab": {}
      },
      "source": [
        "!mkdir test_segmented/"
      ],
      "execution_count": 0,
      "outputs": []
    },
    {
      "cell_type": "code",
      "metadata": {
        "id": "k-BoOD397ez0",
        "colab_type": "code",
        "colab": {}
      },
      "source": [
        "!ls test_segmented/"
      ],
      "execution_count": 0,
      "outputs": []
    },
    {
      "cell_type": "code",
      "metadata": {
        "id": "RFntyL98Ot6S",
        "colab_type": "code",
        "colab": {}
      },
      "source": [
        "!rm -r test_segmented/*"
      ],
      "execution_count": 0,
      "outputs": []
    },
    {
      "cell_type": "code",
      "metadata": {
        "id": "qM_KorPOlNl5",
        "colab_type": "code",
        "colab": {}
      },
      "source": [
        "def segment_test():\n",
        "    \n",
        "    model.to(device)\n",
        "    model.eval()\n",
        "        \n",
        "    transform = transforms.Compose([\n",
        "        transforms.ToPILImage(),\n",
        "        transforms.Resize((540, 800)),\n",
        "        transforms.ToTensor()\n",
        "        ])\n",
        "    \n",
        "    with torch.no_grad():\n",
        "    \n",
        "        for inputs, file_names in test_loader:\n",
        "            inputs = inputs.to(device)\n",
        "            outputs = model(inputs)\n",
        "            outputs = outputs.argmax(1).int()\n",
        "            for i, file_name in enumerate(file_names):    \n",
        "                output = transform(outputs[i].to('cpu'))\n",
        "                torchvision.utils.save_image(output, 'test_segmented/{}_Segmented.png'.format(file_name.replace('.png', '')))        \n",
        "                \n",
        "            del inputs, outputs\n",
        "            torch.cuda.empty_cache()\n",
        "\n",
        "    return 1"
      ],
      "execution_count": 0,
      "outputs": []
    },
    {
      "cell_type": "code",
      "metadata": {
        "id": "I_eascnG0jFu",
        "colab_type": "code",
        "outputId": "df28bc0a-478c-4417-dff6-eed2c8eae281",
        "colab": {
          "base_uri": "https://localhost:8080/",
          "height": 34
        }
      },
      "source": [
        "segment_test()"
      ],
      "execution_count": 0,
      "outputs": [
        {
          "output_type": "execute_result",
          "data": {
            "text/plain": [
              "1"
            ]
          },
          "metadata": {
            "tags": []
          },
          "execution_count": 38
        }
      ]
    },
    {
      "cell_type": "code",
      "metadata": {
        "id": "bLcGkloe1apb",
        "colab_type": "code",
        "colab": {}
      },
      "source": [
        "!tar -czvf test_segmented.tar.gz test_segmented/"
      ],
      "execution_count": 0,
      "outputs": []
    },
    {
      "cell_type": "markdown",
      "metadata": {
        "id": "pMxHmYp3mOp6",
        "colab_type": "text"
      },
      "source": [
        "#Fitting ellipse"
      ]
    },
    {
      "cell_type": "code",
      "metadata": {
        "id": "KHmgOZTan8QS",
        "colab_type": "code",
        "colab": {}
      },
      "source": [
        "from google.colab.patches import cv2_imshow"
      ],
      "execution_count": 0,
      "outputs": []
    },
    {
      "cell_type": "code",
      "metadata": {
        "id": "tQBMsDd51OG-",
        "colab_type": "code",
        "colab": {}
      },
      "source": [
        "!mkdir test_mask/"
      ],
      "execution_count": 0,
      "outputs": []
    },
    {
      "cell_type": "code",
      "metadata": {
        "id": "MuMxxJ0M2og6",
        "colab_type": "code",
        "colab": {}
      },
      "source": [
        "!rm -r test_mask/*"
      ],
      "execution_count": 0,
      "outputs": []
    },
    {
      "cell_type": "code",
      "metadata": {
        "id": "tzBw0LlQyH6h",
        "colab_type": "code",
        "colab": {}
      },
      "source": [
        "def fit_ellipse(im):    \n",
        "    imgray = cv2.cvtColor(im,cv2.COLOR_BGR2GRAY)\n",
        "    ret,thresh = cv2.threshold(imgray,127,255,0)\n",
        "    im2, contours, hierarchy = cv2.findContours(thresh,cv2.RETR_TREE,cv2.CHAIN_APPROX_SIMPLE)\n",
        "    contour_sizes = [len(contour) for contour in contours]\n",
        "    ellipse = cv2.fitEllipse(contours[np.argmax(contour_sizes)])\n",
        "    return ellipse"
      ],
      "execution_count": 0,
      "outputs": []
    },
    {
      "cell_type": "code",
      "metadata": {
        "id": "xmsi6Ge9rXgN",
        "colab_type": "code",
        "colab": {}
      },
      "source": [
        "df_pixel_size = pd.read_csv('test_set_pixel_size.csv')\n",
        "submission = {'filename': [], 'center_x_mm': [], 'center_y_mm': [], 'semi_axes_a_mm': [],\n",
        "             'semi_axes_b_mm': [], 'angle_rad': [], 'Index': []}\n",
        "\n",
        "file_names = sorted([file for _,_,files in os.walk('test_segmented/') for file in files])\n",
        "\n",
        "for i, file_name in enumerate(file_names):\n",
        "    im = cv2.imread('test_segmented/'+file_name)\n",
        "    file_name = file_name.replace('_Segmented', '')\n",
        "    ellipse = fit_ellipse(im)\n",
        "    im_mask = cv2.ellipse(np.zeros_like(im),ellipse,(255,255,255),-1)\n",
        "    image_name = file_name.split('.')[0] + '_Mask.png'\n",
        "    cv2.imwrite('test_mask/'+image_name, im_mask)\n",
        "    \n",
        "    pixel_size = df_pixel_size.loc[df_pixel_size['filename'] == file_name, 'pixel size(mm)'].iloc[0]\n",
        "    submission['filename'].extend([file_name])\n",
        "    submission['Index'].extend([int(file_name.split('_')[0])])\n",
        "    center_x,  center_y = ellipse[0]\n",
        "    submission['center_x_mm'].extend([pixel_size*center_x])\n",
        "    submission['center_y_mm'].extend([pixel_size*center_y])\n",
        "    semi_axes_b, semi_axes_a = ellipse[1]\n",
        "    if semi_axes_b > semi_axes_a:\n",
        "        semi_axes_b = semi_axes_b + semi_axes_a\n",
        "        semi_axes_a = semi_axes_b - semi_axes_a\n",
        "        semi_axes_b -= semi_axes_a\n",
        "    submission['semi_axes_a_mm'].extend([semi_axes_a*pixel_size/2])\n",
        "    submission['semi_axes_b_mm'].extend([semi_axes_b*pixel_size/2])\n",
        "    angle = ellipse[2]\n",
        "    if angle < 90:\n",
        "        angle += 90\n",
        "    else:\n",
        "        angle -= 90\n",
        "    submission['angle_rad'].extend([np.deg2rad(angle)])\n",
        "    \n",
        "submission = pd.DataFrame(submission)\n",
        "submission = submission[['filename', 'center_x_mm', 'center_y_mm', \n",
        "                         'semi_axes_a_mm', 'semi_axes_b_mm', 'angle_rad', 'Index']]    \n",
        "submission = submission.sort_values(['Index'])\n",
        "submission = submission.drop('Index', axis=1)\n",
        "submission.to_csv(\"submisision.csv\", index=False)"
      ],
      "execution_count": 0,
      "outputs": []
    },
    {
      "cell_type": "code",
      "metadata": {
        "id": "zYg5tSf_2u8f",
        "colab_type": "code",
        "colab": {}
      },
      "source": [
        "!tar -czvf test_mask.tar.gz test_mask/ "
      ],
      "execution_count": 0,
      "outputs": []
    }
  ]
}